# Assignment 2 Notebook
